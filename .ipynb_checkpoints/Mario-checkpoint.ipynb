{
 "cells": [
  {
   "cell_type": "markdown",
   "id": "7ab17a0a-306a-476b-911e-310dd80ff3eb",
   "metadata": {},
   "source": [
    "!pip install gym_super_mario_bros==7.3.0 nes_py"
   ]
  },
  {
   "cell_type": "markdown",
   "id": "b1734d07-ec5c-4799-83f0-7fe61a4d0c98",
   "metadata": {},
   "source": [
    "###### pip install gym_super_mario_bros"
   ]
  },
  {
   "cell_type": "code",
   "execution_count": null,
   "id": "1886c9b3-9c87-49c7-89f1-5c0a624c6728",
   "metadata": {},
   "outputs": [],
   "source": [
    "conda create -n mario_env python=3.10\n",
    "conda activate mario_env\n",
    "pip install gym gym_super_mario_bros nes_py"
   ]
  },
  {
   "cell_type": "code",
   "execution_count": 1,
   "id": "c6ae66e5-b24e-4cc4-aaf0-2072443d80e0",
   "metadata": {
    "scrolled": true
   },
   "outputs": [
    {
     "name": "stdout",
     "output_type": "stream",
     "text": [
      "Requirement already satisfied: gym_super_mario_bros==7.3.0 in ./venv/lib/python3.13/site-packages (7.3.0)\n",
      "Requirement already satisfied: nes_py in ./venv/lib/python3.13/site-packages (8.2.1)\n",
      "Requirement already satisfied: gym>=0.17.2 in ./venv/lib/python3.13/site-packages (from nes_py) (0.26.2)\n",
      "Requirement already satisfied: numpy>=1.18.5 in ./venv/lib/python3.13/site-packages (from nes_py) (2.2.4)\n",
      "Requirement already satisfied: pyglet<=1.5.21,>=1.4.0 in ./venv/lib/python3.13/site-packages (from nes_py) (1.5.21)\n",
      "Requirement already satisfied: tqdm>=4.48.2 in ./venv/lib/python3.13/site-packages (from nes_py) (4.67.1)\n",
      "Requirement already satisfied: cloudpickle>=1.2.0 in ./venv/lib/python3.13/site-packages (from gym>=0.17.2->nes_py) (3.1.1)\n",
      "Requirement already satisfied: gym_notices>=0.0.4 in ./venv/lib/python3.13/site-packages (from gym>=0.17.2->nes_py) (0.0.8)\n",
      "\n",
      "\u001b[1m[\u001b[0m\u001b[34;49mnotice\u001b[0m\u001b[1;39;49m]\u001b[0m\u001b[39;49m A new release of pip is available: \u001b[0m\u001b[31;49m25.0\u001b[0m\u001b[39;49m -> \u001b[0m\u001b[32;49m25.0.1\u001b[0m\n",
      "\u001b[1m[\u001b[0m\u001b[34;49mnotice\u001b[0m\u001b[1;39;49m]\u001b[0m\u001b[39;49m To update, run: \u001b[0m\u001b[32;49mpip install --upgrade pip\u001b[0m\n"
     ]
    }
   ],
   "source": [
    "!pip install gym_super_mario_bros==7.3.0 nes_py"
   ]
  },
  {
   "cell_type": "code",
   "execution_count": 2,
   "id": "cb88ed45-4574-4911-9aee-8871c415f8a0",
   "metadata": {},
   "outputs": [],
   "source": [
    "#import the game\n",
    "#import the joypad\n",
    "import gym_super_mario_bros\n",
    "from nes_py.wrappers import JoypadSpace\n",
    "\n",
    "from gym_super_mario_bros.actions import SIMPLE_MOVEMENT"
   ]
  },
  {
   "cell_type": "code",
   "execution_count": 5,
   "id": "d8f71825-b4ed-48f4-80fc-71040bb818c1",
   "metadata": {},
   "outputs": [
    {
     "data": {
      "text/plain": [
       "[['NOOP'],\n",
       " ['right'],\n",
       " ['right', 'A'],\n",
       " ['right', 'B'],\n",
       " ['right', 'A', 'B'],\n",
       " ['A'],\n",
       " ['left']]"
      ]
     },
     "execution_count": 5,
     "metadata": {},
     "output_type": "execute_result"
    }
   ],
   "source": [
    "SIMPLE_MOVEMENT"
   ]
  },
  {
   "cell_type": "code",
   "execution_count": 6,
   "id": "15a158dd-3686-494d-b119-0dd85871d435",
   "metadata": {},
   "outputs": [
    {
     "ename": "OverflowError",
     "evalue": "Python integer 1024 out of bounds for uint8",
     "output_type": "error",
     "traceback": [
      "\u001b[31m---------------------------------------------------------------------------\u001b[39m",
      "\u001b[31mOverflowError\u001b[39m                             Traceback (most recent call last)",
      "\u001b[36mCell\u001b[39m\u001b[36m \u001b[39m\u001b[32mIn[6]\u001b[39m\u001b[32m, line 1\u001b[39m\n\u001b[32m----> \u001b[39m\u001b[32m1\u001b[39m env = \u001b[43mgym_super_mario_bros\u001b[49m\u001b[43m.\u001b[49m\u001b[43mmake\u001b[49m\u001b[43m(\u001b[49m\u001b[33;43m'\u001b[39;49m\u001b[33;43mSuperMarioBros-v3\u001b[39;49m\u001b[33;43m'\u001b[39;49m\u001b[43m)\u001b[49m\n\u001b[32m      2\u001b[39m env = JoypadSpace(env, SIMPLE_MOVEMENT)\n",
      "\u001b[36mFile \u001b[39m\u001b[32m~/Desktop/ZottaGo/IloveTyping/venv/lib/python3.13/site-packages/gym/envs/registration.py:640\u001b[39m, in \u001b[36mmake\u001b[39m\u001b[34m(id, max_episode_steps, autoreset, apply_api_compatibility, disable_env_checker, **kwargs)\u001b[39m\n\u001b[32m    637\u001b[39m     render_mode = \u001b[38;5;28;01mNone\u001b[39;00m\n\u001b[32m    639\u001b[39m \u001b[38;5;28;01mtry\u001b[39;00m:\n\u001b[32m--> \u001b[39m\u001b[32m640\u001b[39m     env = \u001b[43menv_creator\u001b[49m\u001b[43m(\u001b[49m\u001b[43m*\u001b[49m\u001b[43m*\u001b[49m\u001b[43m_kwargs\u001b[49m\u001b[43m)\u001b[49m\n\u001b[32m    641\u001b[39m \u001b[38;5;28;01mexcept\u001b[39;00m \u001b[38;5;167;01mTypeError\u001b[39;00m \u001b[38;5;28;01mas\u001b[39;00m e:\n\u001b[32m    642\u001b[39m     \u001b[38;5;28;01mif\u001b[39;00m (\n\u001b[32m    643\u001b[39m         \u001b[38;5;28mstr\u001b[39m(e).find(\u001b[33m\"\u001b[39m\u001b[33mgot an unexpected keyword argument \u001b[39m\u001b[33m'\u001b[39m\u001b[33mrender_mode\u001b[39m\u001b[33m'\u001b[39m\u001b[33m\"\u001b[39m) >= \u001b[32m0\u001b[39m\n\u001b[32m    644\u001b[39m         \u001b[38;5;129;01mand\u001b[39;00m apply_human_rendering\n\u001b[32m    645\u001b[39m     ):\n",
      "\u001b[36mFile \u001b[39m\u001b[32m~/Desktop/ZottaGo/IloveTyping/venv/lib/python3.13/site-packages/gym_super_mario_bros/smb_env.py:52\u001b[39m, in \u001b[36mSuperMarioBrosEnv.__init__\u001b[39m\u001b[34m(self, rom_mode, lost_levels, target)\u001b[39m\n\u001b[32m     50\u001b[39m rom = rom_path(lost_levels, rom_mode)\n\u001b[32m     51\u001b[39m \u001b[38;5;66;03m# initialize the super object with the ROM path\u001b[39;00m\n\u001b[32m---> \u001b[39m\u001b[32m52\u001b[39m \u001b[38;5;28;43msuper\u001b[39;49m\u001b[43m(\u001b[49m\u001b[43mSuperMarioBrosEnv\u001b[49m\u001b[43m,\u001b[49m\u001b[43m \u001b[49m\u001b[38;5;28;43mself\u001b[39;49m\u001b[43m)\u001b[49m\u001b[43m.\u001b[49m\u001b[34;43m__init__\u001b[39;49m\u001b[43m(\u001b[49m\u001b[43mrom\u001b[49m\u001b[43m)\u001b[49m\n\u001b[32m     53\u001b[39m \u001b[38;5;66;03m# set the target world, stage, and area variables\u001b[39;00m\n\u001b[32m     54\u001b[39m target = decode_target(target, lost_levels)\n",
      "\u001b[36mFile \u001b[39m\u001b[32m~/Desktop/ZottaGo/IloveTyping/venv/lib/python3.13/site-packages/nes_py/nes_env.py:126\u001b[39m, in \u001b[36mNESEnv.__init__\u001b[39m\u001b[34m(self, rom_path)\u001b[39m\n\u001b[32m    124\u001b[39m     \u001b[38;5;28;01mraise\u001b[39;00m \u001b[38;5;167;01mValueError\u001b[39;00m(\u001b[33m'\u001b[39m\u001b[33mROM has trainer. trainer is not supported.\u001b[39m\u001b[33m'\u001b[39m)\n\u001b[32m    125\u001b[39m \u001b[38;5;66;03m# try to read the PRG ROM and raise a value error if it fails\u001b[39;00m\n\u001b[32m--> \u001b[39m\u001b[32m126\u001b[39m _ = \u001b[43mrom\u001b[49m\u001b[43m.\u001b[49m\u001b[43mprg_rom\u001b[49m\n\u001b[32m    127\u001b[39m \u001b[38;5;66;03m# try to read the CHR ROM and raise a value error if it fails\u001b[39;00m\n\u001b[32m    128\u001b[39m _ = rom.chr_rom\n",
      "\u001b[36mFile \u001b[39m\u001b[32m~/Desktop/ZottaGo/IloveTyping/venv/lib/python3.13/site-packages/nes_py/_rom.py:204\u001b[39m, in \u001b[36mROM.prg_rom\u001b[39m\u001b[34m(self)\u001b[39m\n\u001b[32m    202\u001b[39m \u001b[38;5;250m\u001b[39m\u001b[33;03m\"\"\"Return the PRG ROM of the ROM file.\"\"\"\u001b[39;00m\n\u001b[32m    203\u001b[39m \u001b[38;5;28;01mtry\u001b[39;00m:\n\u001b[32m--> \u001b[39m\u001b[32m204\u001b[39m     \u001b[38;5;28;01mreturn\u001b[39;00m \u001b[38;5;28mself\u001b[39m.raw_data[\u001b[38;5;28mself\u001b[39m.prg_rom_start:\u001b[38;5;28;43mself\u001b[39;49m\u001b[43m.\u001b[49m\u001b[43mprg_rom_stop\u001b[49m]\n\u001b[32m    205\u001b[39m \u001b[38;5;28;01mexcept\u001b[39;00m \u001b[38;5;167;01mIndexError\u001b[39;00m:\n\u001b[32m    206\u001b[39m     \u001b[38;5;28;01mraise\u001b[39;00m \u001b[38;5;167;01mValueError\u001b[39;00m(\u001b[33m'\u001b[39m\u001b[33mfailed to read PRG-ROM on ROM.\u001b[39m\u001b[33m'\u001b[39m)\n",
      "\u001b[36mFile \u001b[39m\u001b[32m~/Desktop/ZottaGo/IloveTyping/venv/lib/python3.13/site-packages/nes_py/_rom.py:198\u001b[39m, in \u001b[36mROM.prg_rom_stop\u001b[39m\u001b[34m(self)\u001b[39m\n\u001b[32m    195\u001b[39m \u001b[38;5;129m@property\u001b[39m\n\u001b[32m    196\u001b[39m \u001b[38;5;28;01mdef\u001b[39;00m\u001b[38;5;250m \u001b[39m\u001b[34mprg_rom_stop\u001b[39m(\u001b[38;5;28mself\u001b[39m):\n\u001b[32m    197\u001b[39m \u001b[38;5;250m    \u001b[39m\u001b[33;03m\"\"\"The exclusive stopping index of the PRG ROM.\"\"\"\u001b[39;00m\n\u001b[32m--> \u001b[39m\u001b[32m198\u001b[39m     \u001b[38;5;28;01mreturn\u001b[39;00m \u001b[38;5;28mself\u001b[39m.prg_rom_start + \u001b[38;5;28;43mself\u001b[39;49m\u001b[43m.\u001b[49m\u001b[43mprg_rom_size\u001b[49m\u001b[43m \u001b[49m\u001b[43m*\u001b[49m\u001b[43m \u001b[49m\u001b[32;43m2\u001b[39;49m\u001b[43m*\u001b[49m\u001b[43m*\u001b[49m\u001b[32;43m10\u001b[39;49m\n",
      "\u001b[31mOverflowError\u001b[39m: Python integer 1024 out of bounds for uint8"
     ]
    }
   ],
   "source": [
    "env = gym_super_mario_bros.make('SuperMarioBros-v3')\n",
    "env = JoypadSpace(env, SIMPLE_MOVEMENT)"
   ]
  },
  {
   "cell_type": "code",
   "execution_count": null,
   "id": "24ec9f97-1a87-4c51-b641-fe0c5fdc75f9",
   "metadata": {},
   "outputs": [],
   "source": []
  },
  {
   "cell_type": "code",
   "execution_count": null,
   "id": "650d880a-198c-4f7e-a8f2-417b2ed21df7",
   "metadata": {},
   "outputs": [],
   "source": []
  },
  {
   "cell_type": "code",
   "execution_count": null,
   "id": "03234c60-6e56-4e65-bf55-1508a5c0a2a6",
   "metadata": {},
   "outputs": [],
   "source": []
  }
 ],
 "metadata": {
  "kernelspec": {
   "display_name": "Python 3 (ipykernel)",
   "language": "python",
   "name": "python3"
  },
  "language_info": {
   "codemirror_mode": {
    "name": "ipython",
    "version": 3
   },
   "file_extension": ".py",
   "mimetype": "text/x-python",
   "name": "python",
   "nbconvert_exporter": "python",
   "pygments_lexer": "ipython3",
   "version": "3.13.2"
  }
 },
 "nbformat": 4,
 "nbformat_minor": 5
}
